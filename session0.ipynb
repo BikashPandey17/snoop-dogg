{
  "nbformat": 4,
  "nbformat_minor": 0,
  "metadata": {
    "colab": {
      "name": "session0.ipynb",
      "version": "0.3.2",
      "provenance": [],
      "include_colab_link": true
    },
    "kernelspec": {
      "name": "python3",
      "display_name": "Python 3"
    }
  },
  "cells": [
    {
      "cell_type": "markdown",
      "metadata": {
        "id": "view-in-github",
        "colab_type": "text"
      },
      "source": [
        "[View in Colaboratory](https://colab.research.google.com/github/BikashPandey17/BikashPandey17.github.io/blob/master/session0.ipynb)"
      ]
    },
    {
      "metadata": {
        "id": "9zWebWPRmWUd",
        "colab_type": "code",
        "colab": {
          "base_uri": "https://localhost:8080/",
          "height": 34
        },
        "outputId": "3a6f8792-1d26-4556-f1a8-7e52449de0c9"
      },
      "cell_type": "code",
      "source": [
        "2*8"
      ],
      "execution_count": 1,
      "outputs": [
        {
          "output_type": "execute_result",
          "data": {
            "text/plain": [
              "16"
            ]
          },
          "metadata": {
            "tags": []
          },
          "execution_count": 1
        }
      ]
    },
    {
      "metadata": {
        "id": "LE_225GQmaP0",
        "colab_type": "code",
        "colab": {
          "base_uri": "https://localhost:8080/",
          "height": 128
        },
        "outputId": "66a060b8-6bce-4183-9d0a-613eee26d6d6"
      },
      "cell_type": "code",
      "source": [
        "print \"teri maa ki chut\""
      ],
      "execution_count": 2,
      "outputs": [
        {
          "output_type": "error",
          "ename": "SyntaxError",
          "evalue": "ignored",
          "traceback": [
            "\u001b[0;36m  File \u001b[0;32m\"<ipython-input-2-ab69b677f53e>\"\u001b[0;36m, line \u001b[0;32m1\u001b[0m\n\u001b[0;31m    print \"teri maa ki chut\"\u001b[0m\n\u001b[0m                           ^\u001b[0m\n\u001b[0;31mSyntaxError\u001b[0m\u001b[0;31m:\u001b[0m Missing parentheses in call to 'print'. Did you mean print(\"teri maa ki chut\")?\n"
          ]
        }
      ]
    },
    {
      "metadata": {
        "id": "xKaHdMuqmkZV",
        "colab_type": "code",
        "colab": {
          "base_uri": "https://localhost:8080/",
          "height": 34
        },
        "outputId": "23829999-5433-489f-d50e-67e7ac82d466"
      },
      "cell_type": "code",
      "source": [
        "print(\"teri maa ki chut\")"
      ],
      "execution_count": 3,
      "outputs": [
        {
          "output_type": "stream",
          "text": [
            "teri maa ki chut\n"
          ],
          "name": "stdout"
        }
      ]
    },
    {
      "metadata": {
        "id": "rV5y9Mbcmoqi",
        "colab_type": "code",
        "colab": {
          "base_uri": "https://localhost:8080/",
          "height": 34
        },
        "outputId": "584c0be2-451f-4c5e-9fe9-03f2f5419f2c"
      },
      "cell_type": "code",
      "source": [
        "clear "
      ],
      "execution_count": 4,
      "outputs": [
        {
          "output_type": "stream",
          "text": [
            "\u001b[H\u001b[2J"
          ],
          "name": "stdout"
        }
      ]
    },
    {
      "metadata": {
        "id": "cx7kq89PmrQ1",
        "colab_type": "code",
        "colab": {
          "base_uri": "https://localhost:8080/",
          "height": 162
        },
        "outputId": "7bfe1188-2e19-4020-8c76-fc4c8697c453"
      },
      "cell_type": "code",
      "source": [
        "cls"
      ],
      "execution_count": 5,
      "outputs": [
        {
          "output_type": "error",
          "ename": "NameError",
          "evalue": "ignored",
          "traceback": [
            "\u001b[0;31m---------------------------------------------------------------------------\u001b[0m",
            "\u001b[0;31mNameError\u001b[0m                                 Traceback (most recent call last)",
            "\u001b[0;32m<ipython-input-5-4b94d9d35cf3>\u001b[0m in \u001b[0;36m<module>\u001b[0;34m()\u001b[0m\n\u001b[0;32m----> 1\u001b[0;31m \u001b[0mcls\u001b[0m\u001b[0;34m\u001b[0m\u001b[0m\n\u001b[0m",
            "\u001b[0;31mNameError\u001b[0m: name 'cls' is not defined"
          ]
        }
      ]
    },
    {
      "metadata": {
        "id": "hLZds-ITmtS7",
        "colab_type": "code",
        "colab": {}
      },
      "cell_type": "code",
      "source": [
        "import os"
      ],
      "execution_count": 0,
      "outputs": []
    },
    {
      "metadata": {
        "id": "MOSUKBkvpqH9",
        "colab_type": "code",
        "colab": {}
      },
      "cell_type": "code",
      "source": [
        "import urllib.request"
      ],
      "execution_count": 0,
      "outputs": []
    },
    {
      "metadata": {
        "id": "h_bGkMGqpujR",
        "colab_type": "code",
        "colab": {}
      },
      "cell_type": "code",
      "source": [
        "import ssl\n",
        "ssl._create_default_https_context = ssl._create_unverified_context"
      ],
      "execution_count": 0,
      "outputs": []
    },
    {
      "metadata": {
        "id": "XBDF5eAAp14u",
        "colab_type": "code",
        "colab": {}
      },
      "cell_type": "code",
      "source": [
        "os.mkdir('img_align_celeba')"
      ],
      "execution_count": 0,
      "outputs": []
    },
    {
      "metadata": {
        "id": "hBuq3g6rp8Ec",
        "colab_type": "code",
        "colab": {
          "base_uri": "https://localhost:8080/",
          "height": 17
        },
        "outputId": "c836c56b-1579-4ec8-9d53-05522cbb407c"
      },
      "cell_type": "code",
      "source": [
        "for img_i in range(1, 11):\n",
        "  f = '000%03d.jpg' % img_i\n",
        "  url = 'https://s3.amazonaws.com/cadl/celeb-align/' + f\n",
        "  print(url, end='\\r')\n",
        "  urllib.request.urlretrieve(url, os.path.join('img_align_celeba', f))\n",
        "  "
      ],
      "execution_count": 10,
      "outputs": [
        {
          "output_type": "stream",
          "text": [
            ""
          ],
          "name": "stdout"
        }
      ]
    },
    {
      "metadata": {
        "id": "gS4H8vm3qqip",
        "colab_type": "code",
        "colab": {
          "base_uri": "https://localhost:8080/",
          "height": 286
        },
        "outputId": "c818cb7f-bff1-4258-ce70-0f8bd437b841"
      },
      "cell_type": "code",
      "source": [
        "help(os.listdir)\n"
      ],
      "execution_count": 11,
      "outputs": [
        {
          "output_type": "stream",
          "text": [
            "Help on built-in function listdir in module posix:\n",
            "\n",
            "listdir(path=None)\n",
            "    Return a list containing the names of the files in the directory.\n",
            "    \n",
            "    path can be specified as either str or bytes.  If path is bytes,\n",
            "      the filenames returned will also be bytes; in all other circumstances\n",
            "      the filenames returned will be str.\n",
            "    If path is None, uses the path='.'.\n",
            "    On some platforms, path may also be specified as an open file descriptor;\\\n",
            "      the file descriptor must refer to a directory.\n",
            "      If this functionality is unavailable, using it raises NotImplementedError.\n",
            "    \n",
            "    The list is in arbitrary order.  It does not include the special\n",
            "    entries '.' and '..' even if they are present in the directory.\n",
            "\n"
          ],
          "name": "stdout"
        }
      ]
    },
    {
      "metadata": {
        "id": "JOhwql8h3PBV",
        "colab_type": "code",
        "colab": {}
      },
      "cell_type": "code",
      "source": [
        "files = os.listdir('img_align_celeba')\n"
      ],
      "execution_count": 0,
      "outputs": []
    },
    {
      "metadata": {
        "id": "9Rjk87tj3WAj",
        "colab_type": "code",
        "colab": {
          "base_uri": "https://localhost:8080/",
          "height": 185
        },
        "outputId": "89cc2275-680b-44e3-ded1-0f17882f5f63"
      },
      "cell_type": "code",
      "source": [
        "files"
      ],
      "execution_count": 13,
      "outputs": [
        {
          "output_type": "execute_result",
          "data": {
            "text/plain": [
              "['000010.jpg',\n",
              " '000001.jpg',\n",
              " '000003.jpg',\n",
              " '000002.jpg',\n",
              " '000009.jpg',\n",
              " '000006.jpg',\n",
              " '000007.jpg',\n",
              " '000004.jpg',\n",
              " '000008.jpg',\n",
              " '000005.jpg']"
            ]
          },
          "metadata": {
            "tags": []
          },
          "execution_count": 13
        }
      ]
    },
    {
      "metadata": {
        "id": "Pd4FYh-s3W_B",
        "colab_type": "code",
        "colab": {
          "base_uri": "https://localhost:8080/",
          "height": 185
        },
        "outputId": "f28cfb82-d2df-4e98-d6c8-c9cfee075f36"
      },
      "cell_type": "code",
      "source": [
        "[file_i for file_i in os.listdir('img_align_celeba')\n",
        " if '.jpg' in file_i or '.png' in file_i or '.jpeg' in file_i]"
      ],
      "execution_count": 14,
      "outputs": [
        {
          "output_type": "execute_result",
          "data": {
            "text/plain": [
              "['000010.jpg',\n",
              " '000001.jpg',\n",
              " '000003.jpg',\n",
              " '000002.jpg',\n",
              " '000009.jpg',\n",
              " '000006.jpg',\n",
              " '000007.jpg',\n",
              " '000004.jpg',\n",
              " '000008.jpg',\n",
              " '000005.jpg']"
            ]
          },
          "metadata": {
            "tags": []
          },
          "execution_count": 14
        }
      ]
    },
    {
      "metadata": {
        "id": "GWGhXSkt3pUu",
        "colab_type": "code",
        "colab": {}
      },
      "cell_type": "code",
      "source": [
        "files = [file_i for file_i in os.listdir('img_align_celeba')\n",
        " if '.jpg' in file_i or '.png' in file_i or '.jpeg' in file_i]"
      ],
      "execution_count": 0,
      "outputs": []
    },
    {
      "metadata": {
        "id": "cPmYCSSx3rSz",
        "colab_type": "code",
        "colab": {
          "base_uri": "https://localhost:8080/",
          "height": 34
        },
        "outputId": "7ae6ef07-d1be-45cb-9065-53d62b3540bf"
      },
      "cell_type": "code",
      "source": [
        "print(files[0])"
      ],
      "execution_count": 16,
      "outputs": [
        {
          "output_type": "stream",
          "text": [
            "000010.jpg\n"
          ],
          "name": "stdout"
        }
      ]
    },
    {
      "metadata": {
        "id": "bIpcSgOs3vnX",
        "colab_type": "code",
        "colab": {}
      },
      "cell_type": "code",
      "source": [
        ""
      ],
      "execution_count": 0,
      "outputs": []
    }
  ]
}